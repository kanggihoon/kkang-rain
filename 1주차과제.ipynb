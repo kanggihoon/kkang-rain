{
  "nbformat": 4,
  "nbformat_minor": 0,
  "metadata": {
    "colab": {
      "name": "1주차과제.ipynb",
      "provenance": [],
      "authorship_tag": "ABX9TyOJnc5T6BNjduwFBODJ1kWc",
      "include_colab_link": true
    },
    "kernelspec": {
      "name": "python3",
      "display_name": "Python 3"
    }
  },
  "cells": [
    {
      "cell_type": "markdown",
      "metadata": {
        "id": "view-in-github",
        "colab_type": "text"
      },
      "source": [
        "<a href=\"https://colab.research.google.com/github/kanggihoon/kkang-rain/blob/master/1%EC%A3%BC%EC%B0%A8%EA%B3%BC%EC%A0%9C.ipynb\" target=\"_parent\"><img src=\"https://colab.research.google.com/assets/colab-badge.svg\" alt=\"Open In Colab\"/></a>"
      ]
    },
    {
      "cell_type": "markdown",
      "metadata": {
        "id": "i2jyXgDJ-pfj",
        "colab_type": "text"
      },
      "source": [
        "# ___1주차 과제___\n",
        "----------------------------------------------------------------------\n",
        "* __작성자__ : 강기훈\n",
        "* __날짜__ : 2020.05.23\n",
        "\n",
        "# __목차__\n",
        "1. 언어 \n",
        "2. 음성\n",
        "3. 이미지\n",
        "4. 자율주행\n",
        "--------------------------------------------------------------------------------\n",
        "\n",
        "## __1. 언어__\n",
        "* __구글번역기__\n",
        "\n",
        " * GNMT(Google Neural Machine Translation)라는 신경망 번역 기술을사용\n",
        "\n",
        " * 구글은 이전까지 문구 기반 기계 번역인 PBMT라는 시스템을 사용\n",
        " * PBMT는 단어와 구문을 각각 번역해서 문장을 완성하는 방식이었다면 새로운GNMT는 문장 전체를 번역단위로 사용하는 방식이다.<br>\n",
        " ![인간,gnmt,pbmt비교](http://post.phinf.naver.net/20161017_30/1476711436143tPeAP_PNG/I2sxELnnKAGth3O_akbGZx7IpYIA.jpg)\n",
        " * 구글 연구원에 따르면 GNMT는 문장 전체를 하나의 번역 단위로 파악하기 때문에 번역 오류를 55~85%나 줄일 수 있게 되었다고 밝히고 있다.\n",
        " * 한국어는 워낙 사용자도 적고 샘플량도 적고 시장도 크지않아서 아주 느리게 적용될 수도 있다고 한다.\n",
        "\n",
        "\n",
        " ## __2. 음성__\n",
        " * __samsung빅스비__\n",
        "![빅스비 홈](https://ww.namu.la/s/795025c5e092532a71f01838f74021f3546f7e95d90182dc567668a7946b38c5730f9d03cd5ffb41b43a25d7f2db348fc6abad9fd6aad232462633abc1e324f619bc8a565fea8c393258d8ee5067d16c53f8619ff07c3ebe99f2c972761851d0308e4650c6f5deb73f12415e06b7be41)\n",
        "  * Natural Language Processing (NLP). 자연언어처리기능을 사용<br>\n",
        "ex) 오늘 아침 10시에 서울역의 날씨가 어떤지 알려줘\n",
        "라는 명령이 들어오면, 처은에는 날짜, 시간을 먼저 확인 후 과거, 현재, 미래형인지 인식한다.<br>\n",
        "이후 빅스비 브레인에서 측정 액션을 불러온다.\n",
        "\n",
        "  * 빅스비는 관용적인 언어를 인식한다. 직접 하지 않더라고 시용자가 내린 명령에서 지칭하는 것이 무엇인지 화면에서 객체를 찾아서 명령을 수행할 수 있고 다중작업을 한번의 명령으로 수행할 수 있다.\n",
        "\n",
        "\n",
        " ## __3. 이미지__\n",
        " * __entrupy(엔트러피)__<br>\n",
        "![entrupy](http://blogfiles.naver.net/MjAxNzA4MjJfMjMz/MDAxNTAzMzY1Njk4OTU4.r03aGCZmDnBrrbkd_dFr9OKzPV5H8710320wUi1ODuEg.K-YjLDPh7deKFyXzsI5e6aiJWZsvFwfskAaVSIo9hd8g.JPEG.globalib/IMG_6311.jpg)\n",
        "  * 인공지능 소프트웨어를 개발하는 미국의 스타트업 회사 entrupy 가 개발한 앱을 이용하면 15초 만에 명품 백의 정품인증이 가능하다.\n",
        "\n",
        "  * entrupy는 뉴욕의 여러 백화점과 중고품 매장등에서 얻은 3,000,000개 이상의 정품 데이터를 기반으로 하여 물체를 260배율로 확대해 육안으로 식별하기 어려운 스탬프 표시&가죽의 미세한 틈까지도 확인하는 이미지 인식 딥러닝 기술을 이용\n",
        "\n",
        "  * 현재 사넬, 구찌, 고야드, 프라다, 버버리, 발렌시아가 등 11개에 달하는 명품을 98%정확도로 가려낼수 있게 되었다.\n",
        "\n",
        "\n",
        "   ## __4. 자율주행__\n",
        " * tesla\n",
        "\n",
        "  * 크라우드 소싱(crowd sourcing)은 대중들의 참여로 해결책을 얻는 방법으로 테슬라는 딥러닝(deep learning)을 위한 방대한 데이터를 수집하기 위해서 판매된 자동차의 운전자들로부터 데이터를 수집할수 있는 시스템을 구축하였다.<br>\n",
        "  ![Tesla AutopilotTesla Full Self-Driving Capability](http://image.nmv.naver.net/blog_2020_02_18_2144/ba2115b6-51a7-11ea-8a38-48df37269fd0_05.jpg)\n",
        "\n",
        "   * 2020년 2월 기준 테슬라 오토파일럿의 운행거리 및 데이터의 축적량<br>\n",
        "①오토파일럿 총 도로운행 거리: 4,800,000,000km<br>\n",
        "②오토파일럿 네비게이션: 1,600,000,000km<br>\n",
        "③자율차선변경: 200,000회<br>\n",
        "④운행국가: 50개국 이상<br>\n",
        "⑤스마트 서몬(스마트 차량 호출): 1,200,000회<br>\n",
        "⑥자율 비상 브레이크: 테슬라차량전체 중 10~100회 가량<br>\n",
        " \n",
        "  * 테슬라의 완전자율주행의 기능으로는\n",
        "자동 차선변경, 도토파일엇 네비게이션, 오토파크, 차량호출, 스마트호출, 오토파일럿네비게이션, 스마트 오토파크 등이 있다.\n",
        "--------------------------------------------------------------------------------\n",
        "## __<출처>__\n",
        "\n",
        "https://blog.naver.com/oraclemiso/221919421388\n",
        "\n",
        " \n",
        "\n",
        "https://photohistory.tistory.com/16745\n",
        "\n",
        " \n",
        "\n",
        "https://namu.wiki/w/%EB%B9%85%EC%8A%A4%EB%B9%84\n",
        "\n",
        " \n",
        "\n",
        "https://namu.wiki/w/%ED%85%8C%EC%8A%AC%EB%9D%BC%20%EC%98%A4%ED%86%A0%ED%8C%8C%EC%9D%BC%EB%9F%BF\n",
        "\n",
        " \n",
        "\n",
        "https://blog.naver.com/italyeataly/221119966454\n",
        "\n"
      ]
    }
  ]
}